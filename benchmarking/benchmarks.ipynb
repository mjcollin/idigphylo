{
 "cells": [
  {
   "cell_type": "code",
   "execution_count": 25,
   "metadata": {
    "collapsed": true
   },
   "outputs": [],
   "source": [
    "from __future__ import absolute_import\n",
    "\n",
    "import sys\n",
    "sys.path.append(\"../lib\")\n",
    "import pandas as pd\n",
    "import matplotlib.pyplot as plt\n",
    "from database import Database, Result"
   ]
  },
  {
   "cell_type": "code",
   "execution_count": 13,
   "metadata": {
    "collapsed": false
   },
   "outputs": [
    {
     "name": "stdout",
     "output_type": "stream",
     "text": [
      "\n",
      "sdf hello\n",
      "\n"
     ]
    }
   ],
   "source": [
    "a = \"\"\"\n",
    "sdf {aval}\n",
    "\"\"\".format(**{\"aval\":\"hello\"})\n",
    "print(a)"
   ]
  },
  {
   "cell_type": "code",
   "execution_count": 76,
   "metadata": {
    "collapsed": false
   },
   "outputs": [
    {
     "name": "stdout",
     "output_type": "stream",
     "text": [
      "                                 job_id   mrbayes_starttime  \\\n",
      "0  b18d1674-706d-4275-b0d3-cdc3b6caf7b9 2015-12-09 01:49:18   \n",
      "1  a1b7676c-9d94-42c8-938d-8151b2a8dd58 2015-12-09 01:48:50   \n",
      "2  090771c3-cdd3-4a84-9cf8-36c1e362f6f7 2015-12-09 01:48:24   \n",
      "3  b3b301b9-0b84-4aaf-b341-e16f16c5a534 2015-12-09 01:48:01   \n",
      "4  d34f7fd9-5dc5-437e-9bc3-7aff0a6d9b02 2015-12-09 01:47:37   \n",
      "5  b74ffbb4-492b-4a4e-872e-d954a5052892 2015-12-09 01:47:14   \n",
      "6  cd33cffc-c04f-4895-8ed6-6089a7dd7e1d 2015-12-09 01:46:48   \n",
      "7  7235f66e-e943-4e89-b66c-c126f6b52c82 2015-12-09 01:46:24   \n",
      "8  75394e50-fd68-4c92-8cb9-f49daccfb30f 2015-12-09 01:46:02   \n",
      "9  540cd4d0-4145-467e-842b-bd06c2f8874e 2015-12-09 01:44:47   \n",
      "\n",
      "    mrbayes_timestamp  clustalo_starttime  clustalo_timestamp  mrbayes_time  \\\n",
      "0 2015-12-09 01:49:33 2015-12-09 01:49:14 2015-12-09 01:49:18            15   \n",
      "1 2015-12-09 01:49:04 2015-12-09 01:48:46 2015-12-09 01:48:50            14   \n",
      "2 2015-12-09 01:48:39 2015-12-09 01:48:20 2015-12-09 01:48:24            15   \n",
      "3 2015-12-09 01:48:16 2015-12-09 01:47:57 2015-12-09 01:48:01            15   \n",
      "4 2015-12-09 01:47:52 2015-12-09 01:47:33 2015-12-09 01:47:37            15   \n",
      "5 2015-12-09 01:47:29 2015-12-09 01:47:10 2015-12-09 01:47:14            15   \n",
      "6 2015-12-09 01:47:06 2015-12-09 01:46:44 2015-12-09 01:46:48            18   \n",
      "7 2015-12-09 01:46:40 2015-12-09 01:46:20 2015-12-09 01:46:24            16   \n",
      "8 2015-12-09 01:46:17 2015-12-09 01:45:59 2015-12-09 01:46:02            15   \n",
      "9 2015-12-09 01:45:05 2015-12-09 01:44:43 2015-12-09 01:44:47            18   \n",
      "\n",
      "   clustalo_time  \n",
      "0              4  \n",
      "1              4  \n",
      "2              4  \n",
      "3              4  \n",
      "4              4  \n",
      "5              4  \n",
      "6              4  \n",
      "7              4  \n",
      "8              3  \n",
      "9              4  \n"
     ]
    }
   ],
   "source": [
    "db = Database()\n",
    "\n",
    "def runTimes(start_time, end_time, db):\n",
    "    times = {\n",
    "            \"starttime\": start_time,\n",
    "            \"endtime\": end_time\n",
    "            }\n",
    "\n",
    "    sql = \"\"\"\n",
    "    select \n",
    "    a.job_id, a.starttime as mrbayes_starttime, a.timestamp as mrbayes_timestamp, \n",
    "    b.starttime as clustalo_starttime, b.timestamp as clustalo_timestamp,\n",
    "    TIMESTAMPDIFF(SECOND, a.starttime, a.timestamp) as mrbayes_time,\n",
    "    TIMESTAMPDIFF(SECOND, b.starttime, b.timestamp) as clustalo_time\n",
    "    from (select * from results \n",
    "          where prog='mrbayes' and starttime > '{starttime}' and timestamp < '{endtime}'\n",
    "          ) a \n",
    "    join (select * from results \n",
    "          where prog='clustalo' and starttime > '{starttime}' and timestamp < '{endtime}'\n",
    "          ) b \n",
    "    on a.job_id = b.job_id \n",
    "    order by a.timestamp desc\n",
    "    \"\"\".format(**times)\n",
    "\n",
    "    return pd.read_sql_query(sql, db.conn)\n",
    "\n",
    "\n",
    "# rq = {\"order\":\"squamata\",\"data.dwc:associatedSequences\": {\"type\":\"exists\"}}\n",
    "# limit = 30\n",
    "# 4 sequences\n",
    "seq_4 = runTimes(\"2015-12-09 00:21:00\", \"2015-12-09 00:28:00\", db)\n",
    "# rq = {\"order\":\"squamata\",\"data.dwc:associatedSequences\": {\"type\":\"exists\"}}\n",
    "# limit = 100\n",
    "# 5 sequences\n",
    "seq_5 = runTimes(\"2015-12-09 00:44:15\", \"2015-12-09 00:46:30\", db)\n",
    "# rq = {\"order\":\"squamata\",\"data.dwc:associatedSequences\": {\"type\":\"exists\"}}\n",
    "# limit = 1000\n",
    "# 6 sequences\n",
    "seq_6 = runTimes(\"2015-12-09 01:00:00\", \"2015-12-09 01:03:00\", db)\n",
    "# rq = {\"order\":\"squamata\",\"data.dwc:associatedSequences\": {\"type\":\"exists\"}}\n",
    "# limit = 1000\n",
    "# 7 sequences\n",
    "seq_7 = runTimes(\"2015-12-09 01:05:00\", \"2015-12-09 01:09:00\", db)\n",
    "# rq = {\"order\":\"squamata\",\"data.dwc:associatedSequences\": {\"type\":\"exists\"}}\n",
    "# limit = 1000\n",
    "# 8 sequences\n",
    "seq_8 = runTimes(\"2015-12-09 01:14:00\", \"2015-12-09 01:17:00\", db)\n",
    "# rq = {\"order\":\"squamata\",\"data.dwc:associatedSequences\": {\"type\":\"exists\"}}\n",
    "# limit = 1000\n",
    "# 16 sequences\n",
    "seq_16 = runTimes(\"2015-12-09 01:44:00\", \"2015-12-09 01:50:00\", db)\n",
    "print seq_16\n"
   ]
  },
  {
   "cell_type": "code",
   "execution_count": 77,
   "metadata": {
    "collapsed": false
   },
   "outputs": [],
   "source": [
    "# the slices above need to be averaged together in to a new df\n",
    "df = pd.DataFrame()\n",
    "#df[\"seq_4_mrbayes\"]\n",
    "mean_clustalo = [seq_4[\"clustalo_time\"].mean(), seq_5[\"clustalo_time\"].mean(),\n",
    "                seq_6[\"clustalo_time\"].mean(), seq_7[\"clustalo_time\"].mean(),\n",
    "                seq_8[\"clustalo_time\"].mean(), seq_16[\"clustalo_time\"].mean()]\n",
    "mean_mrbayes = [seq_4[\"mrbayes_time\"].mean(), seq_5[\"mrbayes_time\"].mean(),\n",
    "               seq_6[\"mrbayes_time\"].mean(), seq_7[\"mrbayes_time\"].mean(),\n",
    "               seq_8[\"mrbayes_time\"].mean(), seq_16[\"mrbayes_time\"].mean()]\n",
    "df[\"labels\"] = [\"4\", \"5\", \"6\", \"7\", \"8\", \"16\"]\n",
    "df[\"mean_clustalo\"] = mean_clustalo\n",
    "df[\"mean_mrbayes\"] = mean_mrbayes\n",
    "#print df"
   ]
  },
  {
   "cell_type": "code",
   "execution_count": 80,
   "metadata": {
    "collapsed": false
   },
   "outputs": [
    {
     "data": {
      "text/plain": [
       "(0.625, 7.125)"
      ]
     },
     "execution_count": 80,
     "metadata": {},
     "output_type": "execute_result"
    },
    {
     "data": {
      "image/png": "[encoded data removed]",
      "text/plain": [
       "<matplotlib.figure.Figure at 0x7f14b8f4aed0>"
      ]
     },
     "metadata": {},
     "output_type": "display_data"
    }
   ],
   "source": [
    "%matplotlib inline\n",
    "#http://chrisalbon.com/python/matplotlib_stacked_bar_plot.html\n",
    "f, ax1 = plt.subplots(1, figsize=(10,5))\n",
    "bar_width = 0.75\n",
    "bar_l = [i+1 for i in range(len(df['labels']))]\n",
    "tick_pos = [i+(bar_width/2) for i in bar_l]\n",
    "ax1.bar(bar_l,\n",
    "        # using the pre_score data\n",
    "        df['mean_clustalo'],\n",
    "        # set the width\n",
    "        width=bar_width,\n",
    "        # with the label pre score\n",
    "        label='Clustal O',\n",
    "        # with alpha 0.5\n",
    "        alpha=0.5,\n",
    "        # with color\n",
    "        color='#F4561D')\n",
    "# Create a bar plot, in position bar_1\n",
    "ax1.bar(bar_l,\n",
    "        # using the mid_score data\n",
    "        df['mean_mrbayes'],\n",
    "        # set the width\n",
    "        width=bar_width,\n",
    "        # with pre_score on the bottom\n",
    "        bottom=df['mean_clustalo'],\n",
    "        # with the label mid score\n",
    "        label='MrBayes',\n",
    "        # with alpha 0.5\n",
    "        alpha=0.5,\n",
    "        # with color\n",
    "        color='#F1911E')\n",
    "plt.xticks(tick_pos, df['labels'])\n",
    "ax1.set_ylabel(\"Seconds Used by Worker\")\n",
    "ax1.set_xlabel(\"Number of Sequences\")\n",
    "plt.legend(loc='upper left')\n",
    "plt.xlim([min(tick_pos)-bar_width, max(tick_pos)+bar_width])"
   ]
  },
  {
   "cell_type": "code",
   "execution_count": null,
   "metadata": {
    "collapsed": true
   },
   "outputs": [],
   "source": []
  }
 ],
 "metadata": {
  "kernelspec": {
   "display_name": "Python 2",
   "language": "python",
   "name": "python2"
  },
  "language_info": {
   "codemirror_mode": {
    "name": "ipython",
    "version": 2
   },
   "file_extension": ".py",
   "mimetype": "text/x-python",
   "name": "python",
   "nbconvert_exporter": "python",
   "pygments_lexer": "ipython2",
   "version": "2.7.6"
  }
 },
 "nbformat": 4,
 "nbformat_minor": 0
}
