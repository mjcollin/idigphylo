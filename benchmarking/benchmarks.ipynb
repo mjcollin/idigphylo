{
 "cells": [
  {
   "cell_type": "code",
   "execution_count": 2,
   "metadata": {
    "collapsed": true
   },
   "outputs": [],
   "source": [
    "from __future__ import absolute_import\n",
    "\n",
    "import sys\n",
    "sys.path.append(\"../lib\")\n",
    "import pandas as pd\n",
    "import matplotlib.pyplot as plt\n",
    "from database import Database, Result"
   ]
  },
  {
   "cell_type": "code",
   "execution_count": 3,
   "metadata": {
    "collapsed": false
   },
   "outputs": [
    {
     "name": "stdout",
     "output_type": "stream",
     "text": [
      "\n",
      "sdf hello\n",
      "\n"
     ]
    }
   ],
   "source": [
    "a = \"\"\"\n",
    "sdf {aval}\n",
    "\"\"\".format(**{\"aval\":\"hello\"})\n",
    "print(a)"
   ]
  },
  {
   "cell_type": "code",
   "execution_count": 4,
   "metadata": {
    "collapsed": false
   },
   "outputs": [],
   "source": [
    "db = Database()\n",
    "\n",
    "def runTimes(start_time, end_time, db):\n",
    "    times = {\n",
    "            \"starttime\": start_time,\n",
    "            \"endtime\": end_time\n",
    "            }\n",
    "\n",
    "    sql = \"\"\"\n",
    "    select \n",
    "    a.job_id, a.starttime as mrbayes_starttime, a.timestamp as mrbayes_timestamp, \n",
    "    b.starttime as clustalo_starttime, b.timestamp as clustalo_timestamp,\n",
    "    TIMESTAMPDIFF(SECOND, a.starttime, a.timestamp) as mrbayes_time,\n",
    "    TIMESTAMPDIFF(SECOND, b.starttime, b.timestamp) as clustalo_time\n",
    "    from (select * from results \n",
    "          where prog='mrbayes' and starttime > '{starttime}' and timestamp < '{endtime}'\n",
    "          ) a \n",
    "    join (select * from results \n",
    "          where prog='clustalo' and starttime > '{starttime}' and timestamp < '{endtime}'\n",
    "          ) b \n",
    "    on a.job_id = b.job_id \n",
    "    order by a.timestamp desc\n",
    "    \"\"\".format(**times)\n",
    "\n",
    "    return pd.read_sql_query(sql, db.conn)\n",
    "\n",
    "\n",
    "# rq = {\"order\":\"squamata\",\"data.dwc:associatedSequences\": {\"type\":\"exists\"}}\n",
    "# limit = 30\n",
    "# 4 sequences\n",
    "seq_4 = runTimes(\"2015-12-09 00:21:00\", \"2015-12-09 00:28:00\", db)\n",
    "# rq = {\"order\":\"squamata\",\"data.dwc:associatedSequences\": {\"type\":\"exists\"}}\n",
    "# limit = 100\n",
    "# 5 sequences\n",
    "seq_5 = runTimes(\"2015-12-09 00:44:15\", \"2015-12-09 00:46:30\", db)\n",
    "# rq = {\"order\":\"squamata\",\"data.dwc:associatedSequences\": {\"type\":\"exists\"}}\n",
    "# limit = 1000\n",
    "# 6 sequences\n",
    "seq_6 = runTimes(\"2015-12-09 01:00:00\", \"2015-12-09 01:03:00\", db)\n",
    "# rq = {\"order\":\"squamata\",\"data.dwc:associatedSequences\": {\"type\":\"exists\"}}\n",
    "# limit = 1000\n",
    "# 7 sequences\n",
    "seq_7 = runTimes(\"2015-12-09 01:05:00\", \"2015-12-09 01:09:00\", db)\n",
    "# rq = {\"order\":\"squamata\",\"data.dwc:associatedSequences\": {\"type\":\"exists\"}}\n",
    "# limit = 1000\n",
    "# 8 sequences\n",
    "seq_8 = runTimes(\"2015-12-09 01:14:00\", \"2015-12-09 01:17:00\", db)\n",
    "# rq = {\"order\":\"squamata\",\"data.dwc:associatedSequences\": {\"type\":\"exists\"}}\n",
    "# limit = 1000\n",
    "# 16 sequences\n",
    "seq_16 = runTimes(\"2015-12-09 01:44:00\", \"2015-12-09 01:50:00\", db)\n",
    "# rq = {\"order\":\"squamata\",\"data.dwc:associatedSequences\": {\"type\":\"exists\"}}\n",
    "# limit = 1000\n",
    "# 16 sequences\n",
    "seq_32 = runTimes(\"2015-12-09 06:30:00\", \"2015-12-09 06:40:00\", db)\n"
   ]
  },
  {
   "cell_type": "code",
   "execution_count": 5,
   "metadata": {
    "collapsed": false
   },
   "outputs": [],
   "source": [
    "# the slices above need to be averaged together in to a new df\n",
    "df = pd.DataFrame()\n",
    "#df[\"seq_4_mrbayes\"]\n",
    "mean_clustalo = [seq_4[\"clustalo_time\"].mean(), seq_5[\"clustalo_time\"].mean(),\n",
    "                seq_6[\"clustalo_time\"].mean(), seq_7[\"clustalo_time\"].mean(),\n",
    "                seq_8[\"clustalo_time\"].mean(), seq_16[\"clustalo_time\"].mean(),\n",
    "                seq_32[\"clustalo_time\"].mean()]\n",
    "mean_mrbayes = [seq_4[\"mrbayes_time\"].mean(), seq_5[\"mrbayes_time\"].mean(),\n",
    "               seq_6[\"mrbayes_time\"].mean(), seq_7[\"mrbayes_time\"].mean(),\n",
    "               seq_8[\"mrbayes_time\"].mean(), seq_16[\"mrbayes_time\"].mean(),\n",
    "               seq_32[\"mrbayes_time\"].mean()]\n",
    "df[\"labels\"] = [\"4\", \"5\", \"6\", \"7\", \"8\", \"16\", \"32\"]\n",
    "df[\"mean_clustalo\"] = mean_clustalo\n",
    "df[\"mean_mrbayes\"] = mean_mrbayes\n",
    "#print df"
   ]
  },
  {
   "cell_type": "code",
   "execution_count": 6,
   "metadata": {
    "collapsed": false
   },
   "outputs": [
    {
     "data": {
      "text/plain": [
       "(0.625, 8.125)"
      ]
     },
     "execution_count": 6,
     "metadata": {},
     "output_type": "execute_result"
    },
    {
     "data": {
      "image/png": "[encoded data removed]",
      "text/plain": [
       "<matplotlib.figure.Figure at 0x7f7929908bd0>"
      ]
     },
     "metadata": {},
     "output_type": "display_data"
    }
   ],
   "source": [
    "%matplotlib inline\n",
    "#http://chrisalbon.com/python/matplotlib_stacked_bar_plot.html\n",
    "f, ax1 = plt.subplots(1, figsize=(10,5))\n",
    "bar_width = 0.75\n",
    "bar_l = [i+1 for i in range(len(df['labels']))]\n",
    "tick_pos = [i+(bar_width/2) for i in bar_l]\n",
    "ax1.bar(bar_l,\n",
    "        # using the pre_score data\n",
    "        df['mean_clustalo'],\n",
    "        # set the width\n",
    "        width=bar_width,\n",
    "        # with the label pre score\n",
    "        label='Clustal O',\n",
    "        # with alpha 0.5\n",
    "        alpha=0.5,\n",
    "        # with color\n",
    "        color='#F4561D')\n",
    "# Create a bar plot, in position bar_1\n",
    "ax1.bar(bar_l,\n",
    "        # using the mid_score data\n",
    "        df['mean_mrbayes'],\n",
    "        # set the width\n",
    "        width=bar_width,\n",
    "        # with pre_score on the bottom\n",
    "        bottom=df['mean_clustalo'],\n",
    "        # with the label mid score\n",
    "        label='MrBayes',\n",
    "        # with alpha 0.5\n",
    "        alpha=0.5,\n",
    "        # with color\n",
    "        color='#F1911E')\n",
    "plt.xticks(tick_pos, df['labels'])\n",
    "ax1.set_ylabel(\"Seconds Used by Worker\")\n",
    "ax1.set_xlabel(\"Number of Sequences\")\n",
    "plt.legend(loc='upper left')\n",
    "plt.xlim([min(tick_pos)-bar_width, max(tick_pos)+bar_width])"
   ]
  },
  {
   "cell_type": "code",
   "execution_count": null,
   "metadata": {
    "collapsed": true
   },
   "outputs": [],
   "source": []
  }
 ],
 "metadata": {
  "kernelspec": {
   "display_name": "Python 2",
   "language": "python",
   "name": "python2"
  },
  "language_info": {
   "codemirror_mode": {
    "name": "ipython",
    "version": 2
   },
   "file_extension": ".py",
   "mimetype": "text/x-python",
   "name": "python",
   "nbconvert_exporter": "python",
   "pygments_lexer": "ipython2",
   "version": "2.7.6"
  }
 },
 "nbformat": 4,
 "nbformat_minor": 0
}
